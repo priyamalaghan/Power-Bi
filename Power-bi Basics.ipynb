{
 "cells": [
  {
   "cell_type": "markdown",
   "id": "dfd638e8",
   "metadata": {},
   "source": [
    "# Power BI Basics\n",
    "- Power BI (Power Business Intelligence) is a Data Visualization and Business Intelligence tool that converts data from different data sources to interactive dashboards and BI reports\n",
    "    - Three most important components of power bi\n",
    "        - The query editor : Transforming or cleaning the data\n",
    "        - The data modeling : using DAX functionalities\n",
    "        - Visualization \n",
    "    - Process flow of power bi\n",
    "        - How we can develop the visuals in power bi which called as an Author\n",
    "        - How we share report into power bi service\n",
    "        - From power bi service how the intended users can view the report and take decisions from particular dashboards and reports\n",
    "    - To create report we need power bi desktop\n",
    "    - To share report we need power bi services\n",
    "    - Power bi is a cloud platform\n",
    "    - Power query editor is the self serive ETL tool in Power bi\n",
    "- **DAX Basics in Power BI**\n",
    "    - DAX (Data Analysis Expressions) is a formula expression language and can be used in different BI and visualization tools\n",
    "    - DAX is also known as function language, where the full code is kept inside a function\n",
    "    - DAX programming formula contains two data types: Numeric and Other.\n",
    "        - Numeric includes - integers, currency and decimals, while Other includes: string and binary object.\n",
    "    - Functions:\n",
    "        - DAX Functions\n",
    "            - Aggregate, Text, Date, Logical, Counting, Information\n",
    "        - Aggregate Functions\n",
    "            - MIN, MAX, Average, SUM, SUMX\n",
    "        - Counting Functions\n",
    "            - DISTINCTCOUNT, COUNT, COUNTA, COUNTROWS, COUNTBLANK\n",
    "        - Logical Functions\n",
    "            - AND, OR, NOT, IF, IFERROR\n",
    "        - TEXT Functions\n",
    "            - REPLACE, SEARCH, UPPER, FIXED, CONCATENATE\n",
    "        - DATE Functions\n",
    "            - DATE, HOUR, WEEKDAY, NOW, EOMONTH\n",
    "        - INFORMATION Functions\n",
    "            - ISBLANK, ISNUMBER, ISTEXT, ISNONTEXT, ISERROR\n",
    "    - DAX Calculation Types\n",
    "        - In Power BI, you can create two primary calculations using DAX −\n",
    "            - Calculated columns\n",
    "            - Calculated measures"
   ]
  },
  {
   "cell_type": "markdown",
   "id": "0e4e9883",
   "metadata": {},
   "source": []
  },
  {
   "cell_type": "code",
   "execution_count": null,
   "id": "fdc713d4",
   "metadata": {},
   "outputs": [],
   "source": []
  }
 ],
 "metadata": {
  "kernelspec": {
   "display_name": "Python 3 (ipykernel)",
   "language": "python",
   "name": "python3"
  },
  "language_info": {
   "codemirror_mode": {
    "name": "ipython",
    "version": 3
   },
   "file_extension": ".py",
   "mimetype": "text/x-python",
   "name": "python",
   "nbconvert_exporter": "python",
   "pygments_lexer": "ipython3",
   "version": "3.9.7"
  }
 },
 "nbformat": 4,
 "nbformat_minor": 5
}
