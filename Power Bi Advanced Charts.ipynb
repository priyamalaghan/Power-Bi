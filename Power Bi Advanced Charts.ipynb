{
 "cells": [
  {
   "cell_type": "markdown",
   "id": "2304e8de",
   "metadata": {},
   "source": [
    "# Advanced Charts"
   ]
  },
  {
   "cell_type": "markdown",
   "id": "f03b6513",
   "metadata": {},
   "source": [
    "- **Need to get from Appsource, a third party**"
   ]
  },
  {
   "cell_type": "markdown",
   "id": "f024edba",
   "metadata": {},
   "source": [
    "### Animated Bar Chart Race"
   ]
  },
  {
   "cell_type": "markdown",
   "id": "e03ab4a4",
   "metadata": {},
   "source": [
    "### Drill Down Donut Chart"
   ]
  },
  {
   "cell_type": "markdown",
   "id": "f937c75d",
   "metadata": {},
   "source": [
    "### Drill Down Column Chart"
   ]
  },
  {
   "cell_type": "markdown",
   "id": "7e514f17",
   "metadata": {},
   "source": [
    "### Word Cloud"
   ]
  },
  {
   "cell_type": "markdown",
   "id": "cb2fd60b",
   "metadata": {},
   "source": [
    "### Sankey Chart\n",
    "- To show the relation between two categories"
   ]
  },
  {
   "cell_type": "markdown",
   "id": "81baae2f",
   "metadata": {},
   "source": [
    "### Infographic"
   ]
  },
  {
   "cell_type": "markdown",
   "id": "7312e61a",
   "metadata": {},
   "source": [
    "### Play Axis"
   ]
  },
  {
   "cell_type": "markdown",
   "id": "ccc7d2b0",
   "metadata": {},
   "source": [
    "### Scoller"
   ]
  },
  {
   "cell_type": "markdown",
   "id": "a853a063",
   "metadata": {},
   "source": [
    "### Sunburst Chart"
   ]
  },
  {
   "cell_type": "markdown",
   "id": "6a98a799",
   "metadata": {},
   "source": [
    "### Histogram"
   ]
  },
  {
   "cell_type": "code",
   "execution_count": null,
   "id": "e81e419d",
   "metadata": {},
   "outputs": [],
   "source": []
  }
 ],
 "metadata": {
  "kernelspec": {
   "display_name": "Python 3 (ipykernel)",
   "language": "python",
   "name": "python3"
  },
  "language_info": {
   "codemirror_mode": {
    "name": "ipython",
    "version": 3
   },
   "file_extension": ".py",
   "mimetype": "text/x-python",
   "name": "python",
   "nbconvert_exporter": "python",
   "pygments_lexer": "ipython3",
   "version": "3.9.7"
  }
 },
 "nbformat": 4,
 "nbformat_minor": 5
}
